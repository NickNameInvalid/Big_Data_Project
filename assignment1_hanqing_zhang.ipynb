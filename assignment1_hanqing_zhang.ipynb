{
 "cells": [
  {
   "cell_type": "markdown",
   "metadata": {},
   "source": [
    "Load in Data"
   ]
  },
  {
   "cell_type": "code",
   "execution_count": 4,
   "metadata": {},
   "outputs": [
    {
     "name": "stdout",
     "output_type": "stream",
     "text": [
      "Using 'Citywide Payroll Data (Fiscal Year)' in file ./k397-673e.tsv.gz of size 89.62 MB\n"
     ]
    }
   ],
   "source": [
    "from openclean.data.source.socrata import Socrata\n",
    "import gzip\n",
    "import humanfriendly\n",
    "import os\n",
    "\n",
    "dataset = Socrata().dataset('k397-673e')\n",
    "datafile = './k397-673e.tsv.gz'\n",
    "\n",
    "if not os.path.isfile(datafile):\n",
    "    with gzip.open(datafile, 'wb') as f:\n",
    "        print('Downloading ...\\n')\n",
    "        dataset.write(f)\n",
    "        \n",
    "fsize = humanfriendly.format_size(os.stat(datafile).st_size)\n",
    "print(\"Using '{}' in file {} of size {}\".format(dataset.name, datafile, fsize))\n",
    "\n",
    "from openclean.pipeline import stream\n",
    "from openclean.data.load import dataset\n",
    "import pandas as pd\n",
    "\n",
    "ds = stream(datafile)\n",
    "ds_full = dataset(datafile)"
   ]
  },
  {
   "cell_type": "markdown",
   "metadata": {},
   "source": [
    "Print all rows"
   ]
  },
  {
   "cell_type": "code",
   "execution_count": 5,
   "metadata": {},
   "outputs": [
    {
     "data": {
      "text/html": [
       "<div>\n",
       "<style scoped>\n",
       "    .dataframe tbody tr th:only-of-type {\n",
       "        vertical-align: middle;\n",
       "    }\n",
       "\n",
       "    .dataframe tbody tr th {\n",
       "        vertical-align: top;\n",
       "    }\n",
       "\n",
       "    .dataframe thead th {\n",
       "        text-align: right;\n",
       "    }\n",
       "</style>\n",
       "<table border=\"1\" class=\"dataframe\">\n",
       "  <thead>\n",
       "    <tr style=\"text-align: right;\">\n",
       "      <th></th>\n",
       "      <th>Fiscal Year</th>\n",
       "      <th>Payroll Number</th>\n",
       "      <th>Agency Name</th>\n",
       "      <th>Last Name</th>\n",
       "      <th>First Name</th>\n",
       "      <th>Mid Init</th>\n",
       "      <th>Agency Start Date</th>\n",
       "      <th>Work Location Borough</th>\n",
       "      <th>Title Description</th>\n",
       "      <th>Leave Status as of June 30</th>\n",
       "      <th>Base Salary</th>\n",
       "      <th>Pay Basis</th>\n",
       "      <th>Regular Hours</th>\n",
       "      <th>Regular Gross Paid</th>\n",
       "      <th>OT Hours</th>\n",
       "      <th>Total OT Paid</th>\n",
       "      <th>Total Other Pay</th>\n",
       "    </tr>\n",
       "  </thead>\n",
       "  <tbody>\n",
       "    <tr>\n",
       "      <th>0</th>\n",
       "      <td>2020</td>\n",
       "      <td>17</td>\n",
       "      <td>OFFICE OF EMERGENCY MANAGEMENT</td>\n",
       "      <td>BEREZIN</td>\n",
       "      <td>MIKHAIL</td>\n",
       "      <td></td>\n",
       "      <td>08/10/2015</td>\n",
       "      <td>BROOKLYN</td>\n",
       "      <td>EMERGENCY PREPAREDNESS MANAGER</td>\n",
       "      <td>ACTIVE</td>\n",
       "      <td>86005.00</td>\n",
       "      <td>per Annum</td>\n",
       "      <td>1820</td>\n",
       "      <td>84698.21</td>\n",
       "      <td>0</td>\n",
       "      <td>0.00</td>\n",
       "      <td>0.00</td>\n",
       "    </tr>\n",
       "    <tr>\n",
       "      <th>1</th>\n",
       "      <td>2020</td>\n",
       "      <td>17</td>\n",
       "      <td>OFFICE OF EMERGENCY MANAGEMENT</td>\n",
       "      <td>GEAGER</td>\n",
       "      <td>VERONICA</td>\n",
       "      <td>M</td>\n",
       "      <td>09/12/2016</td>\n",
       "      <td>BROOKLYN</td>\n",
       "      <td>EMERGENCY PREPAREDNESS MANAGER</td>\n",
       "      <td>ACTIVE</td>\n",
       "      <td>86005.00</td>\n",
       "      <td>per Annum</td>\n",
       "      <td>1820</td>\n",
       "      <td>84698.21</td>\n",
       "      <td>0</td>\n",
       "      <td>0.00</td>\n",
       "      <td>0.00</td>\n",
       "    </tr>\n",
       "    <tr>\n",
       "      <th>2</th>\n",
       "      <td>2020</td>\n",
       "      <td>17</td>\n",
       "      <td>OFFICE OF EMERGENCY MANAGEMENT</td>\n",
       "      <td>RAMANI</td>\n",
       "      <td>SHRADDHA</td>\n",
       "      <td></td>\n",
       "      <td>02/22/2016</td>\n",
       "      <td>BROOKLYN</td>\n",
       "      <td>EMERGENCY PREPAREDNESS MANAGER</td>\n",
       "      <td>ACTIVE</td>\n",
       "      <td>86005.00</td>\n",
       "      <td>per Annum</td>\n",
       "      <td>1820</td>\n",
       "      <td>84698.21</td>\n",
       "      <td>0</td>\n",
       "      <td>0.00</td>\n",
       "      <td>0.00</td>\n",
       "    </tr>\n",
       "    <tr>\n",
       "      <th>3</th>\n",
       "      <td>2020</td>\n",
       "      <td>17</td>\n",
       "      <td>OFFICE OF EMERGENCY MANAGEMENT</td>\n",
       "      <td>ROTTA</td>\n",
       "      <td>JONATHAN</td>\n",
       "      <td>D</td>\n",
       "      <td>09/16/2013</td>\n",
       "      <td>BROOKLYN</td>\n",
       "      <td>EMERGENCY PREPAREDNESS MANAGER</td>\n",
       "      <td>ACTIVE</td>\n",
       "      <td>86005.00</td>\n",
       "      <td>per Annum</td>\n",
       "      <td>1820</td>\n",
       "      <td>84698.21</td>\n",
       "      <td>0</td>\n",
       "      <td>0.00</td>\n",
       "      <td>0.00</td>\n",
       "    </tr>\n",
       "    <tr>\n",
       "      <th>4</th>\n",
       "      <td>2020</td>\n",
       "      <td>17</td>\n",
       "      <td>OFFICE OF EMERGENCY MANAGEMENT</td>\n",
       "      <td>WILSON II</td>\n",
       "      <td>ROBERT</td>\n",
       "      <td>P</td>\n",
       "      <td>04/30/2018</td>\n",
       "      <td>BROOKLYN</td>\n",
       "      <td>EMERGENCY PREPAREDNESS MANAGER</td>\n",
       "      <td>ACTIVE</td>\n",
       "      <td>86005.00</td>\n",
       "      <td>per Annum</td>\n",
       "      <td>1820</td>\n",
       "      <td>84698.21</td>\n",
       "      <td>0</td>\n",
       "      <td>0.00</td>\n",
       "      <td>0.00</td>\n",
       "    </tr>\n",
       "  </tbody>\n",
       "</table>\n",
       "</div>"
      ],
      "text/plain": [
       "  Fiscal Year Payroll Number                     Agency Name  Last Name  \\\n",
       "0        2020             17  OFFICE OF EMERGENCY MANAGEMENT    BEREZIN   \n",
       "1        2020             17  OFFICE OF EMERGENCY MANAGEMENT     GEAGER   \n",
       "2        2020             17  OFFICE OF EMERGENCY MANAGEMENT     RAMANI   \n",
       "3        2020             17  OFFICE OF EMERGENCY MANAGEMENT      ROTTA   \n",
       "4        2020             17  OFFICE OF EMERGENCY MANAGEMENT  WILSON II   \n",
       "\n",
       "  First Name Mid Init Agency Start Date Work Location Borough  \\\n",
       "0    MIKHAIL                 08/10/2015              BROOKLYN   \n",
       "1   VERONICA        M        09/12/2016              BROOKLYN   \n",
       "2   SHRADDHA                 02/22/2016              BROOKLYN   \n",
       "3   JONATHAN        D        09/16/2013              BROOKLYN   \n",
       "4     ROBERT        P        04/30/2018              BROOKLYN   \n",
       "\n",
       "                Title Description Leave Status as of June 30 Base Salary  \\\n",
       "0  EMERGENCY PREPAREDNESS MANAGER                     ACTIVE    86005.00   \n",
       "1  EMERGENCY PREPAREDNESS MANAGER                     ACTIVE    86005.00   \n",
       "2  EMERGENCY PREPAREDNESS MANAGER                     ACTIVE    86005.00   \n",
       "3  EMERGENCY PREPAREDNESS MANAGER                     ACTIVE    86005.00   \n",
       "4  EMERGENCY PREPAREDNESS MANAGER                     ACTIVE    86005.00   \n",
       "\n",
       "   Pay Basis Regular Hours Regular Gross Paid OT Hours Total OT Paid  \\\n",
       "0  per Annum          1820           84698.21        0          0.00   \n",
       "1  per Annum          1820           84698.21        0          0.00   \n",
       "2  per Annum          1820           84698.21        0          0.00   \n",
       "3  per Annum          1820           84698.21        0          0.00   \n",
       "4  per Annum          1820           84698.21        0          0.00   \n",
       "\n",
       "  Total Other Pay  \n",
       "0            0.00  \n",
       "1            0.00  \n",
       "2            0.00  \n",
       "3            0.00  \n",
       "4            0.00  "
      ]
     },
     "execution_count": 5,
     "metadata": {},
     "output_type": "execute_result"
    }
   ],
   "source": [
    "ds_full.head()"
   ]
  },
  {
   "cell_type": "code",
   "execution_count": 6,
   "metadata": {},
   "outputs": [],
   "source": [
    "COLUMNS = [\n",
    "    \"Payroll Number\",\n",
    "    \"Agency Name\",\n",
    "    \"Last Name\",\n",
    "    \"First Name\",\n",
    "    \"Mid Init\",\n",
    "    \"Agency Start Date\"\n",
    "]"
   ]
  },
  {
   "cell_type": "code",
   "execution_count": null,
   "metadata": {},
   "outputs": [],
   "source": [
    "##Find missing data & check data type"
   ]
  },
  {
   "cell_type": "code",
   "execution_count": 7,
   "metadata": {},
   "outputs": [],
   "source": [
    "from openclean.profiling.column import DefaultColumnProfiler\n",
    "from openclean.profiling.dataset import dataset_profile\n",
    "\n",
    "#profiles = ds.profile(default_profiler=DefaultColumnProfiler)\n",
    "profiles = dataset_profile(ds_full)\n"
   ]
  },
  {
   "cell_type": "code",
   "execution_count": 8,
   "metadata": {},
   "outputs": [
    {
     "name": "stdout",
     "output_type": "stream",
     "text": [
      "                              total    empty  distinct  uniqueness    entropy\n",
      "Fiscal Year                 3923290        0         7    0.000002   2.805614\n",
      "Payroll Number              3923290  1745440       157    0.000072   4.286506\n",
      "Agency Name                 3923290        0       165    0.000042   4.365925\n",
      "Last Name                   3923290     2031    157080    0.040059  14.264455\n",
      "First Name                  3923290     2033     88232    0.022501  11.611521\n",
      "Mid Init                    3923290  1596166        43    0.000018   4.073274\n",
      "Agency Start Date           3923290       63     14933    0.003806  11.097847\n",
      "Work Location Borough       3923290   506226        22    0.000006   1.507244\n",
      "Title Description           3923290       84      1802    0.000459   6.207524\n",
      "Leave Status as of June 30  3923290        0         5    0.000001   0.710495\n",
      "Base Salary                 3923290        0     98573    0.025125  10.224240\n",
      "Pay Basis                   3923290        0         4    0.000001   1.405552\n",
      "Regular Hours               3923290        0     86101    0.021946   4.617157\n",
      "Regular Gross Paid          3923290        0   1785527    0.455110  18.008194\n",
      "OT Hours                    3923290        0     52619    0.013412   4.113907\n",
      "Total OT Paid               3923290        0    806992    0.205693   6.337171\n",
      "Total Other Pay             3923290        0    850763    0.216849  10.056461\n"
     ]
    }
   ],
   "source": [
    "print(profiles.stats())"
   ]
  },
  {
   "cell_type": "code",
   "execution_count": 9,
   "metadata": {},
   "outputs": [
    {
     "name": "stdout",
     "output_type": "stream",
     "text": [
      "                             date    float   int     str\n",
      "Fiscal Year                     0        0     7       0\n",
      "Payroll Number                  0        0   157       0\n",
      "Agency Name                     0        0     0     165\n",
      "Last Name                       0        1     1  157078\n",
      "First Name                      0        2     0   88230\n",
      "Mid Init                        0        0     9      34\n",
      "Agency Start Date           14933        0     0       0\n",
      "Work Location Borough           0        0     0      22\n",
      "Title Description               0        0     0    1802\n",
      "Leave Status as of June 30      0        0     0       5\n",
      "Base Salary                     0    98573     0       0\n",
      "Pay Basis                       0        0     0       4\n",
      "Regular Hours                   0    83708  2393       0\n",
      "Regular Gross Paid              0  1785527     0       0\n",
      "OT Hours                        0    51067  1552       0\n",
      "Total OT Paid                   0   806992     0       0\n",
      "Total Other Pay                 0   850763     0       0\n"
     ]
    }
   ],
   "source": [
    "print(profiles.types())"
   ]
  },
  {
   "cell_type": "code",
   "execution_count": null,
   "metadata": {},
   "outputs": [],
   "source": [
    "##Data Profiling for \"Agency Name\" Column"
   ]
  },
  {
   "cell_type": "code",
   "execution_count": 10,
   "metadata": {},
   "outputs": [
    {
     "name": "stdout",
     "output_type": "stream",
     "text": [
      "1   DEPT OF ED PEDAGOGICAL     758,360\n",
      "2   DEPT OF ED PER SESSION TEACHER     608,565\n",
      "3   POLICE DEPARTMENT     367,745\n",
      "4   DEPT OF ED PARA PROFESSIONALS     245,259\n",
      "5   BOARD OF ELECTION POLL WORKERS     235,235\n",
      "6   DEPT OF ED HRLY SUPPORT STAFF     164,165\n",
      "7   FIRE DEPARTMENT     128,819\n",
      "8   DEPT OF PARKS & RECREATION     117,212\n",
      "9   DEPARTMENT OF EDUCATION ADMIN     110,936\n",
      "10  HRA/DEPT OF SOCIAL SERVICES     104,331\n",
      "11  NYC HOUSING AUTHORITY      95,132\n",
      "12  DEPARTMENT OF SANITATION      92,755\n",
      "13  DEPARTMENT OF CORRECTION      91,843\n",
      "14  DEPT OF ED PER DIEM TEACHERS      90,784\n",
      "15  Police Department      55,619\n",
      "16  DEPT OF HEALTH/MENTAL HYGIENE      54,291\n",
      "17  ADMIN FOR CHILDREN'S SVCS      53,268\n",
      "18  DEPT OF ENVIRONMENT PROTECTION      48,751\n",
      "19  DEPARTMENT OF TRANSPORTATION      42,801\n",
      "20  COMMUNITY COLLEGE (MANHATTAN)      41,594\n",
      "21  COMMUNITY COLLEGE (LAGUARDIA)      32,068\n",
      "22  COMMUNITY COLLEGE (KINGSBORO)      31,582\n",
      "23  COMMUNITY COLLEGE (QUEENSBORO)      26,474\n",
      "24  COMMUNITY COLLEGE (BRONX)      23,312\n",
      "25  DEPT. OF HOMELESS SERVICES      19,429\n",
      "26  DEPT OF CITYWIDE ADMIN SVCS      18,885\n",
      "27  HOUSING PRESERVATION & DVLPMNT      18,158\n",
      "28  DEPARTMENT OF FINANCE      16,186\n",
      "29  COMMUNITY COLLEGE (HOSTOS)      15,002\n",
      "30  LAW DEPARTMENT      14,321\n",
      "31  DEPT OF INFO TECH & TELECOMM      12,170\n",
      "32  DEPARTMENT OF BUILDINGS      12,031\n",
      "33  DISTRICT ATTORNEY-MANHATTAN      11,405\n",
      "34  DEPT. OF DESIGN & CONSTRUCTION      10,999\n",
      "35  DEPARTMENT OF PROBATION       8,385\n",
      "36  DEPARTMENT FOR THE AGING       8,366\n",
      "37  DOE CUSTODIAL PAYROL       8,065\n",
      "38  PERSONNEL MONITORS       7,969\n",
      "39  DISTRICT ATTORNEY KINGS COUNTY       7,895\n",
      "40  BOARD OF ELECTION       7,364\n",
      "41  BRONX DISTRICT ATTORNEY       7,237\n",
      "42  CITY COUNCIL       7,085\n",
      "43  OFFICE OF THE COMPTROLLER       6,681\n",
      "44  TAXI & LIMOUSINE COMMISSION       5,435\n",
      "45  OFFICE OF THE MAYOR       4,981\n",
      "46  ADMIN TRIALS AND HEARINGS       4,967\n",
      "47  DISTRICT ATTORNEY QNS COUNTY       4,682\n",
      "48  DEPT OF YOUTH & COMM DEV SRVS       4,327\n",
      "49  GUTTMAN COMMUNITY COLLEGE       4,120\n",
      "50  NYC EMPLOYEES RETIREMENT SYS       3,505\n",
      "51  CONSUMER AFFAIRS       3,333\n",
      "52  FINANCIAL INFO SVCS AGENCY       3,294\n",
      "53  OFFICE OF MANAGEMENT & BUDGET       3,281\n",
      "54  TEACHERS RETIREMENT SYSTEM       2,974\n",
      "55  DEPARTMENT OF CITY PLANNING       2,671\n",
      "56  DEPARTMENT OF BUSINESS SERV.       2,631\n",
      "57  HUNTER COLLEGE HIGH SCHOOL       2,617\n",
      "58  DEPARTMENT OF INVESTIGATION       2,588\n",
      "59  PUBLIC SERVICE CORPS       2,321\n",
      "60  CIVILIAN COMPLAINT REVIEW BD       1,698\n",
      "61  Manhattan DA       1,622\n",
      "62  DISTRICT ATTORNEY-SPECIAL NARC       1,606\n",
      "63  OFFICE OF EMERGENCY MANAGEMENT       1,411\n",
      "64  Kings DA       1,278\n",
      "65  NYC POLICE PENSION FUND       1,240\n",
      "66  OFF OF PAYROLL ADMINISTRATION       1,232\n",
      "67  OFFICE OF LABOR RELATIONS       1,020\n",
      "68  DISTRICT ATTORNEY RICHMOND COU       1,004\n",
      "69  CAMPAIGN FINANCE BOARD         946\n",
      "70  HUMAN RIGHTS COMMISSION         937\n",
      "71  Bronx DA         935\n",
      "72  MAYORS OFFICE OF CONTRACT SVCS         719\n",
      "73  BUSINESS INTEGRITY COMMISSION         672\n",
      "74  Queens DA         660\n",
      "75  LANDMARKS PRESERVATION COMM         617\n",
      "76  CITY CLERK         611\n",
      "77  DEPT OF RECORDS & INFO SERVICE         563\n",
      "78  PUBLIC ADVOCATE         562\n",
      "79  BOROUGH PRESIDENT-BROOKLYN         562\n",
      "80  CULTURAL AFFAIRS         536\n",
      "81  PRESIDENT BOROUGH OF MANHATTAN         511\n",
      "82  BOROUGH PRESIDENT-QUEENS         489\n",
      "83  BOROUGH PRESIDENT-BRONX         435\n",
      "84  TAX COMMISSION         424\n",
      "85  BOROUGH PRESIDENT-STATEN IS         375\n",
      "86  CUNY CENTRAL OFFICE         365\n",
      "87  OFFICE OF THE ACTUARY         302\n",
      "88  INDEPENDENT BUDGET OFFICE         291\n",
      "89  Spec Narcs-DA         251\n",
      "90  CONFLICTS OF INTEREST BOARD         196\n",
      "91  NYC DEPT OF VETERANS' SERVICES         179\n",
      "92  BOARD OF CORRECTION         171\n",
      "93  OFFICE OF COLLECTIVE BARGAININ         133\n",
      "94  Richmond DA         112\n",
      "95  NYC FIRE PENSION FUND         108\n",
      "96  PUBLIC ADMINISTRATOR-KINGS         105\n",
      "97  MUNICIPAL WATER FIN AUTHORITY         102\n",
      "98  EQUAL EMPLOY PRACTICES COMM          93\n",
      "99  CIVIL SERVICE COMMISSION          91\n",
      "100 DEPARTMENT OF JUVENILE JUSTICE          88\n",
      "101 PUBLIC ADMINISTRATOR-NEW YORK          80\n",
      "102 PUBLIC ADMINISTRATOR-BRONX          63\n",
      "103 PUBLIC ADMINISTRATOR-QUEENS          60\n",
      "104 BRONX COMMUNITY BOARD #10          42\n",
      "105 PUBLIC ADMINISTRATOR-RICHMOND          40\n",
      "106 MANHATTAN COMMUNITY BOARD #8          38\n",
      "107 QUEENS COMMUNITY BOARD #8          36\n",
      "108 MANHATTAN COMMUNITY BOARD #2          32\n",
      "109 QUEENS COMMUNITY BOARD #7          32\n",
      "110 MANHATTAN COMMUNITY BOARD #3          31\n",
      "111 BRONX COMMUNITY BOARD #11          31\n",
      "112 QUEENS COMMUNITY BOARD #1          31\n",
      "113 MANHATTAN COMMUNITY BOARD #1          30\n",
      "114 QUEENS COMMUNITY BOARD #3          30\n",
      "115 BROOKLYN COMMUNITY BOARD #5          30\n",
      "116 BROOKLYN COMMUNITY BOARD #10          30\n",
      "117 QUEENS COMMUNITY BOARD #6          29\n",
      "118 QUEENS COMMUNITY BOARD #10          29\n",
      "119 STATEN ISLAND COMMUNITY BD #2          29\n",
      "120 MANHATTAN COMMUNITY BOARD #5          28\n",
      "121 MANHATTAN COMMUNITY BOARD #10          28\n",
      "122 BRONX COMMUNITY BOARD #9          28\n",
      "123 QUEENS COMMUNITY BOARD #2          28\n",
      "124 QUEENS COMMUNITY BOARD #5          28\n",
      "125 QUEENS COMMUNITY BOARD #9          28\n",
      "126 QUEENS COMMUNITY BOARD #12          28\n",
      "127 BROOKLYN COMMUNITY BOARD #13          28\n",
      "128 BROOKLYN COMMUNITY BOARD #17          28\n",
      "129 MANHATTAN COMMUNITY BOARD #6          27\n",
      "130 BROOKLYN COMMUNITY BOARD #2          27\n",
      "131 BRONX COMMUNITY BOARD #8          26\n",
      "132 MANHATTAN COMMUNITY BOARD #11          25\n",
      "133 QUEENS COMMUNITY BOARD #14          25\n",
      "134 MANHATTAN COMMUNITY BOARD #4          24\n",
      "135 BRONX COMMUNITY BOARD #7          24\n",
      "136 BROOKLYN COMMUNITY BOARD #4          24\n",
      "137 BROOKLYN COMMUNITY BOARD #6          24\n",
      "138 BROOKLYN COMMUNITY BOARD #11          24\n",
      "139 BROOKLYN COMMUNITY BOARD #15          24\n",
      "140 MANHATTAN COMMUNITY BOARD #12          23\n",
      "141 BRONX COMMUNITY BOARD #2          23\n",
      "142 QUEENS COMMUNITY BOARD #11          23\n",
      "143 BROOKLYN COMMUNITY BOARD #12          23\n",
      "144 STATEN ISLAND COMMUNITY BD #1          23\n",
      "145 BRONX COMMUNITY BOARD #4          22\n",
      "146 QUEENS COMMUNITY BOARD #4          22\n",
      "147 QUEENS COMMUNITY BOARD #13          22\n",
      "148 BROOKLYN COMMUNITY BOARD #1          22\n",
      "149 BROOKLYN COMMUNITY BOARD #7          22\n",
      "150 BROOKLYN COMMUNITY BOARD #8          22\n",
      "151 BROOKLYN COMMUNITY BOARD #16          22\n",
      "152 BROOKLYN COMMUNITY BOARD #18          22\n",
      "153 STATEN ISLAND COMMUNITY BD #3          22\n",
      "154 MANHATTAN COMMUNITY BOARD #7          21\n",
      "155 MANHATTAN COMMUNITY BOARD #9          21\n",
      "156 BRONX COMMUNITY BOARD #5          21\n",
      "157 BRONX COMMUNITY BOARD #6          21\n",
      "158 BROOKLYN COMMUNITY BOARD #3          21\n",
      "159 BROOKLYN COMMUNITY BOARD #14          21\n",
      "160 BRONX COMMUNITY BOARD #12          20\n",
      "161 BROOKLYN COMMUNITY BOARD #9          20\n",
      "162 BOARD OF CORRECTIONS          17\n",
      "163 BRONX COMMUNITY BOARD #1          15\n",
      "164 BRONX COMMUNITY BOARD #3          14\n",
      "165 DISTRICTING COMMISSION           3\n"
     ]
    }
   ],
   "source": [
    "agency = ds.distinct('Agency Name')\n",
    "for rank, val in enumerate(agency.most_common()):\n",
    "    st, freq = val\n",
    "    print(f'{rank + 1:<3} {st}  {freq:>10,}')"
   ]
  },
  {
   "cell_type": "code",
   "execution_count": null,
   "metadata": {},
   "outputs": [],
   "source": [
    "##Data profiling for \"Last Name and First Name\" Columns"
   ]
  },
  {
   "cell_type": "markdown",
   "metadata": {},
   "source": [
    "For data cleaning, we filled the empty value in \"Last Name and First Name\" by \"/\""
   ]
  },
  {
   "cell_type": "code",
   "execution_count": 11,
   "metadata": {},
   "outputs": [
    {
     "name": "stdout",
     "output_type": "stream",
     "text": [
      "RODRIGUEZ         24912\n",
      "WILLIAMS          24338\n",
      "SMITH             19442\n",
      "BROWN             18617\n",
      "JOHNSON           18421\n",
      "                  ...  \n",
      "LILJEGREN             1\n",
      "POLON                 1\n",
      "SKEIST                1\n",
      "SHET                  1\n",
      "NUNEZ TRINIDAD        1\n",
      "Name: Last Name, Length: 157079, dtype: int64\n",
      "MICHAEL     60512\n",
      "JOHN        39634\n",
      "JOSEPH      33445\n",
      "ROBERT      32363\n",
      "MARIA       31386\n",
      "            ...  \n",
      "AYELIH          1\n",
      "RAMONIA         1\n",
      "SHYIESHA        1\n",
      "ADANTA          1\n",
      "ZABA            1\n",
      "Name: First Name, Length: 88232, dtype: int64\n"
     ]
    }
   ],
   "source": [
    "from openclean.function.value.null import is_empty\n",
    "from openclean.operator.transform.update import update\n",
    "ds_full = update(ds_full, columns='Last Name', func=str.upper)\n",
    "ds_full = update(ds_full, columns='Last Name', func=lambda x: '/' if is_empty(x) else x)\n",
    "last_name = ds_full['Last Name'].value_counts()\n",
    "\n",
    "print(last_name)\n",
    "\n",
    "ds_full = update(ds_full, columns='First Name', func=str.upper)\n",
    "ds_full = update(ds_full, columns='First Name', func=lambda x: '/' if is_empty(x) else x)\n",
    "first_name = ds_full['First Name'].value_counts()\n",
    "\n",
    "print(first_name)\n"
   ]
  },
  {
   "cell_type": "code",
   "execution_count": null,
   "metadata": {},
   "outputs": [],
   "source": [
    "##Columns \"Last Name\" and \"First Name\" key collision Strategy"
   ]
  },
  {
   "cell_type": "code",
   "execution_count": 12,
   "metadata": {},
   "outputs": [],
   "source": [
    "from openclean.cluster.key import KeyCollision\n",
    "from openclean.function.value.key.fingerprint import Fingerprint\n",
    "\n",
    "last_names = stream(datafile).update('Last Name', str.upper).distinct('Last Name')\n",
    "clusters = KeyCollision(func=Fingerprint()).clusters(last_names)\n",
    "first_names = stream(datafile).update('First Name', str.upper).distinct('First Name')\n",
    "clusters = KeyCollision(func=Fingerprint()).clusters(first_names)"
   ]
  },
  {
   "cell_type": "code",
   "execution_count": 13,
   "metadata": {},
   "outputs": [
    {
     "name": "stdout",
     "output_type": "stream",
     "text": [
      "Total number of clusters is 875 with 1771 values\n",
      "\n",
      "Cluster 1\n",
      "  ANN MARIE (x 1395)\n",
      "  MARIE ANN (x 7)\n",
      "  ANN  MARIE (x 5)\n",
      "  ANN- MARIE (x 3)\n",
      "\n",
      "Cluster 2\n",
      "  M A (x 7)\n",
      "  A M (x 2)\n",
      "  A .M. (x 2)\n",
      "\n",
      "Cluster 3\n",
      "  ANNE MARIE (x 499)\n",
      "  MARIE ANNE (x 17)\n",
      "  ANNE - MARIE (x 1)\n",
      "\n",
      "Cluster 4\n",
      "  DAN (x 387)\n",
      "  DAN DAN (x 17)\n",
      "  D'AN (x 2)\n",
      "\n",
      "Cluster 5\n",
      "  DASHA (x 40)\n",
      "  DA'SHA (x 1)\n",
      "  D'ASHA (x 1)\n"
     ]
    }
   ],
   "source": [
    "def print_k_clusters(clusters, k=5):\n",
    "    clusters = sorted(clusters, key=lambda x: len(x), reverse=True)\n",
    "    val_count = sum([len(c) for c in clusters])\n",
    "    print('Total number of clusters is {} with {} values'.format(len(clusters), val_count))\n",
    "    for i in range(min(k, len(clusters))):\n",
    "        print('\\nCluster {}'.format(i + 1))\n",
    "        for key, cnt in clusters[i].items():\n",
    "            if key == '':\n",
    "                key = \"''\"\n",
    "            print(f'  {key} (x {cnt})')\n",
    "print_k_clusters(clusters)"
   ]
  },
  {
   "cell_type": "code",
   "execution_count": null,
   "metadata": {},
   "outputs": [],
   "source": [
    "##Data profiling for column \"Agency Start Date\""
   ]
  },
  {
   "cell_type": "markdown",
   "metadata": {},
   "source": [
    "For our Strategy, we first identify the min and max of this column and we do the visulization of this column."
   ]
  },
  {
   "cell_type": "code",
   "execution_count": 14,
   "metadata": {},
   "outputs": [
    {
     "data": {
      "text/html": [
       "<div>\n",
       "<style scoped>\n",
       "    .dataframe tbody tr th:only-of-type {\n",
       "        vertical-align: middle;\n",
       "    }\n",
       "\n",
       "    .dataframe tbody tr th {\n",
       "        vertical-align: top;\n",
       "    }\n",
       "\n",
       "    .dataframe thead th {\n",
       "        text-align: right;\n",
       "    }\n",
       "</style>\n",
       "<table border=\"1\" class=\"dataframe\">\n",
       "  <thead>\n",
       "    <tr style=\"text-align: right;\">\n",
       "      <th></th>\n",
       "      <th>min</th>\n",
       "      <th>max</th>\n",
       "    </tr>\n",
       "  </thead>\n",
       "  <tbody>\n",
       "    <tr>\n",
       "      <th>date</th>\n",
       "      <td>1901-01-01</td>\n",
       "      <td>9999-12-31 00:00:00</td>\n",
       "    </tr>\n",
       "  </tbody>\n",
       "</table>\n",
       "</div>"
      ],
      "text/plain": [
       "            min                  max\n",
       "date 1901-01-01  9999-12-31 00:00:00"
      ]
     },
     "execution_count": 14,
     "metadata": {},
     "output_type": "execute_result"
    }
   ],
   "source": [
    "profiles.minmax('Agency Start Date')"
   ]
  },
  {
   "cell_type": "code",
   "execution_count": 18,
   "metadata": {},
   "outputs": [
    {
     "ename": "TypeError",
     "evalue": "log_histogram_inverse() takes 4 positional arguments but 5 were given",
     "output_type": "error",
     "traceback": [
      "\u001b[1;31m---------------------------------------------------------------------------\u001b[0m",
      "\u001b[1;31mTypeError\u001b[0m                                 Traceback (most recent call last)",
      "\u001b[1;32m~\\AppData\\Local\\Temp/ipykernel_848/856511601.py\u001b[0m in \u001b[0;36m<module>\u001b[1;34m\u001b[0m\n\u001b[0;32m      9\u001b[0m     \u001b[0m_\u001b[0m \u001b[1;33m=\u001b[0m \u001b[0max\u001b[0m\u001b[1;33m.\u001b[0m\u001b[0mhist\u001b[0m\u001b[1;33m(\u001b[0m\u001b[0mx\u001b[0m\u001b[1;33m,\u001b[0m \u001b[0mbins\u001b[0m\u001b[1;33m=\u001b[0m\u001b[1;36m100\u001b[0m\u001b[1;33m,\u001b[0m \u001b[0mcolor\u001b[0m\u001b[1;33m=\u001b[0m\u001b[0mcolor\u001b[0m\u001b[1;33m)\u001b[0m\u001b[1;33m\u001b[0m\u001b[1;33m\u001b[0m\u001b[0m\n\u001b[0;32m     10\u001b[0m \u001b[0mfig\u001b[0m\u001b[1;33m,\u001b[0m \u001b[0max\u001b[0m \u001b[1;33m=\u001b[0m \u001b[0mplt\u001b[0m\u001b[1;33m.\u001b[0m\u001b[0msubplots\u001b[0m\u001b[1;33m(\u001b[0m\u001b[1;36m1\u001b[0m\u001b[1;33m,\u001b[0m \u001b[1;36m1\u001b[0m\u001b[1;33m,\u001b[0m \u001b[0mfigsize\u001b[0m\u001b[1;33m=\u001b[0m\u001b[1;33m(\u001b[0m\u001b[1;36m14\u001b[0m\u001b[1;33m,\u001b[0m\u001b[1;36m7\u001b[0m\u001b[1;33m)\u001b[0m\u001b[1;33m)\u001b[0m\u001b[1;33m\u001b[0m\u001b[1;33m\u001b[0m\u001b[0m\n\u001b[1;32m---> 11\u001b[1;33m \u001b[0mlog_histogram_inverse\u001b[0m\u001b[1;33m(\u001b[0m\u001b[0max\u001b[0m\u001b[1;33m,\u001b[0m \u001b[0mds_full\u001b[0m\u001b[1;33m[\u001b[0m\u001b[1;34m'Agency Start Date'\u001b[0m\u001b[1;33m]\u001b[0m\u001b[1;33m,\u001b[0m \u001b[1;34m'Agency Start Date'\u001b[0m\u001b[1;33m,\u001b[0m \u001b[1;34m'green'\u001b[0m\u001b[1;33m,\u001b[0m \u001b[1;36m40\u001b[0m\u001b[1;33m)\u001b[0m\u001b[1;33m\u001b[0m\u001b[1;33m\u001b[0m\u001b[0m\n\u001b[0m",
      "\u001b[1;31mTypeError\u001b[0m: log_histogram_inverse() takes 4 positional arguments but 5 were given"
     ]
    },
    {
     "data": {
      "image/png": "[encoded data removed]",
      "text/plain": [
       "<Figure size 1008x504 with 1 Axes>"
      ]
     },
     "metadata": {
      "needs_background": "light"
     },
     "output_type": "display_data"
    }
   ],
   "source": [
    "from openclean.function.value.null import is_empty\n",
    "from openclean.operator.transform.update import update\n",
    "%matplotlib inline\n",
    "import matplotlib.pyplot as plt\n",
    "fig, ax = plt.boxplots(figsize=(14,7))\n",
    "log_boxplot(ax, ds_full['Agency Start Date'], 'Agency Start Date', 'green')\n"
   ]
  }
 ],
 "metadata": {
  "interpreter": {
   "hash": "3828d97b8ad37deeedddfde04f5808c491f2027fd4f5a6f66ed2a6538ed2f884"
  },
  "kernelspec": {
   "display_name": "Python 3.9.5 64-bit",
   "language": "python",
   "name": "python3"
  },
  "language_info": {
   "codemirror_mode": {
    "name": "ipython",
    "version": 3
   },
   "file_extension": ".py",
   "mimetype": "text/x-python",
   "name": "python",
   "nbconvert_exporter": "python",
   "pygments_lexer": "ipython3",
   "version": "3.9.5"
  },
  "orig_nbformat": 4
 },
 "nbformat": 4,
 "nbformat_minor": 2
}
